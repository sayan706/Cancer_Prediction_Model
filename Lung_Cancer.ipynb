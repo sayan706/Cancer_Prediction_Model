{
 "cells": [
  {
   "cell_type": "code",
   "execution_count": 66,
   "id": "3b955366-4398-47d4-9e86-88a50f134a31",
   "metadata": {},
   "outputs": [],
   "source": [
    "import pandas as pd\n",
    "import numpy as np\n",
    "import matplotlib.pyplot as plt\n",
    "from sklearn.model_selection import train_test_split\n",
    "from sklearn.preprocessing import StandardScaler\n",
    "from sklearn.ensemble import RandomForestClassifier\n",
    "from sklearn.metrics import accuracy_score, classification_report, confusion_matrix\n",
    "import joblib"
   ]
  },
  {
   "cell_type": "code",
   "execution_count": 67,
   "id": "0812aaa3-944d-4b9d-a601-925048296469",
   "metadata": {},
   "outputs": [],
   "source": [
    "df = pd.read_csv('survey lung cancer.csv')"
   ]
  },
  {
   "cell_type": "code",
   "execution_count": 68,
   "id": "0e954cef-8f34-4e18-a3b1-1d33f56f3643",
   "metadata": {},
   "outputs": [
    {
     "name": "stdout",
     "output_type": "stream",
     "text": [
      "    GENDER  AGE  SMOKING  YELLOW_FINGERS  ANXIETY  PEER_PRESSURE  \\\n",
      "0        M   69        1               2        2              1   \n",
      "1        M   74        2               1        1              1   \n",
      "2        F   59        1               1        1              2   \n",
      "3        M   63        2               2        2              1   \n",
      "4        F   63        1               2        1              1   \n",
      "..     ...  ...      ...             ...      ...            ...   \n",
      "304      F   56        1               1        1              2   \n",
      "305      M   70        2               1        1              1   \n",
      "306      M   58        2               1        1              1   \n",
      "307      M   67        2               1        2              1   \n",
      "308      M   62        1               1        1              2   \n",
      "\n",
      "     CHRONIC DISEASE  FATIGUE   ALLERGY   WHEEZING  ALCOHOL CONSUMING  \\\n",
      "0                  1         2         1         2                  2   \n",
      "1                  2         2         2         1                  1   \n",
      "2                  1         2         1         2                  1   \n",
      "3                  1         1         1         1                  2   \n",
      "4                  1         1         1         2                  1   \n",
      "..               ...       ...       ...       ...                ...   \n",
      "304                2         2         1         1                  2   \n",
      "305                1         2         2         2                  2   \n",
      "306                1         1         2         2                  2   \n",
      "307                1         2         2         1                  2   \n",
      "308                1         2         2         2                  2   \n",
      "\n",
      "     COUGHING  SHORTNESS OF BREATH  SWALLOWING DIFFICULTY  CHEST PAIN  \\\n",
      "0           2                    2                      2           2   \n",
      "1           1                    2                      2           2   \n",
      "2           2                    2                      1           2   \n",
      "3           1                    1                      2           2   \n",
      "4           2                    2                      1           1   \n",
      "..        ...                  ...                    ...         ...   \n",
      "304         2                    2                      2           1   \n",
      "305         2                    2                      1           2   \n",
      "306         2                    1                      1           2   \n",
      "307         2                    2                      1           2   \n",
      "308         1                    1                      2           1   \n",
      "\n",
      "    LUNG_CANCER  \n",
      "0           YES  \n",
      "1           YES  \n",
      "2            NO  \n",
      "3            NO  \n",
      "4            NO  \n",
      "..          ...  \n",
      "304         YES  \n",
      "305         YES  \n",
      "306         YES  \n",
      "307         YES  \n",
      "308         YES  \n",
      "\n",
      "[309 rows x 16 columns]\n"
     ]
    }
   ],
   "source": [
    "print(df)"
   ]
  },
  {
   "cell_type": "code",
   "execution_count": 69,
   "id": "0d086350-357f-46e2-aa5a-240d00d1b417",
   "metadata": {},
   "outputs": [
    {
     "name": "stdout",
     "output_type": "stream",
     "text": [
      "33\n",
      "(309, 16)\n"
     ]
    }
   ],
   "source": [
    "print(df.duplicated().sum())\n",
    "print(df.shape)"
   ]
  },
  {
   "cell_type": "code",
   "execution_count": 70,
   "id": "112bc1b8-b844-4431-8c3a-1d543c8c43b0",
   "metadata": {},
   "outputs": [
    {
     "name": "stdout",
     "output_type": "stream",
     "text": [
      "0\n",
      "(276, 16)\n"
     ]
    }
   ],
   "source": [
    "df.drop_duplicates(inplace=True)\n",
    "print(df.duplicated().sum())\n",
    "print(df.shape)"
   ]
  },
  {
   "cell_type": "code",
   "execution_count": 71,
   "id": "9896a466-b25a-413c-b3ce-3fe8f6751532",
   "metadata": {},
   "outputs": [
    {
     "name": "stdout",
     "output_type": "stream",
     "text": [
      "LUNG_CANCER\n",
      "YES    238\n",
      "NO      38\n",
      "Name: count, dtype: int64\n"
     ]
    }
   ],
   "source": [
    "X = df.iloc[0:,:len(df.columns)-1]\n",
    "Y = df.iloc[:,-1]\n",
    "print(Y.value_counts())"
   ]
  },
  {
   "cell_type": "code",
   "execution_count": 72,
   "id": "91a619b7-2ce2-4267-b1ce-55bea11b30ec",
   "metadata": {},
   "outputs": [
    {
     "data": {
      "text/plain": [
       "<Axes: ylabel='count'>"
      ]
     },
     "execution_count": 72,
     "metadata": {},
     "output_type": "execute_result"
    },
    {
     "data": {
      "image/png": "[encoded data removed]",
      "text/plain": [
       "<Figure size 640x480 with 1 Axes>"
      ]
     },
     "metadata": {},
     "output_type": "display_data"
    }
   ],
   "source": [
    "Y.value_counts().plot.pie(autopct=\"%.2f\")"
   ]
  },
  {
   "cell_type": "code",
   "execution_count": 73,
   "id": "e4c2f779-7209-4bf0-b849-4f91ce76f3d1",
   "metadata": {},
   "outputs": [
    {
     "name": "stdout",
     "output_type": "stream",
     "text": [
      "LUNG_CANCER\n",
      "YES    238\n",
      "NO     238\n",
      "Name: count, dtype: int64\n"
     ]
    },
    {
     "data": {
      "image/png": "[encoded data removed]",
      "text/plain": [
       "<Figure size 640x480 with 1 Axes>"
      ]
     },
     "metadata": {},
     "output_type": "display_data"
    }
   ],
   "source": [
    "from imblearn.over_sampling import RandomOverSampler\n",
    "ros = RandomOverSampler(sampling_strategy=\"not majority\")\n",
    "\n",
    "X, Y = ros.fit_resample(X,Y)\n",
    "Y.value_counts().plot.pie(autopct=\"%.2f\")\n",
    "print(Y.value_counts())"
   ]
  },
  {
   "cell_type": "code",
   "execution_count": 74,
   "id": "ceb20f9f-7585-47eb-a2b7-b4265b8abcae",
   "metadata": {},
   "outputs": [
    {
     "name": "stdout",
     "output_type": "stream",
     "text": [
      "     GENDER  AGE  SMOKING  YELLOW_FINGERS  ANXIETY  PEER_PRESSURE  \\\n",
      "0         0   69        0               1        1              0   \n",
      "1         0   74        1               0        0              0   \n",
      "2         1   59        0               0        0              1   \n",
      "3         0   63        1               1        1              0   \n",
      "4         1   63        0               1        0              0   \n",
      "..      ...  ...      ...             ...      ...            ...   \n",
      "471       1   55        1               0        1              0   \n",
      "472       1   57        1               1        0              0   \n",
      "473       0   61        0               0        1              1   \n",
      "474       1   57        1               1        0              0   \n",
      "475       1   71        1               0        0              0   \n",
      "\n",
      "     CHRONIC DISEASE  FATIGUE   ALLERGY   WHEEZING  ALCOHOL CONSUMING  \\\n",
      "0                  0         1         0         1                  1   \n",
      "1                  1         1         1         0                  0   \n",
      "2                  0         1         0         1                  0   \n",
      "3                  0         0         0         0                  1   \n",
      "4                  0         0         0         1                  0   \n",
      "..               ...       ...       ...       ...                ...   \n",
      "471                0         1         0         0                  0   \n",
      "472                0         0         0         0                  0   \n",
      "473                1         0         0         0                  1   \n",
      "474                0         0         0         0                  0   \n",
      "475                1         1         0         0                  0   \n",
      "\n",
      "     COUGHING  SHORTNESS OF BREATH  SWALLOWING DIFFICULTY  CHEST PAIN  \n",
      "0           1                    1                      1           1  \n",
      "1           0                    1                      1           1  \n",
      "2           1                    1                      0           1  \n",
      "3           0                    0                      1           1  \n",
      "4           1                    1                      0           0  \n",
      "..        ...                  ...                    ...         ...  \n",
      "471         0                    0                      0           0  \n",
      "472         0                    1                      0           0  \n",
      "473         0                    0                      0           0  \n",
      "474         0                    1                      0           0  \n",
      "475         0                    1                      0           0  \n",
      "\n",
      "[476 rows x 15 columns] 0      1\n",
      "1      1\n",
      "2      0\n",
      "3      0\n",
      "4      0\n",
      "      ..\n",
      "471    0\n",
      "472    0\n",
      "473    0\n",
      "474    0\n",
      "475    0\n",
      "Name: LUNG_CANCER, Length: 476, dtype: int64\n"
     ]
    }
   ],
   "source": [
    "Y = Y.replace({\"YES\":1,\"NO\":0})\n",
    "X = X.replace({1:0,2:1})\n",
    "X[\"GENDER\"] = X[\"GENDER\"].replace({\"M\":0,\"F\":1})\n",
    "print(X,Y)"
   ]
  },
  {
   "cell_type": "code",
   "execution_count": 75,
   "id": "a231ebbf-20fd-4e80-8d6b-f2314c708d8a",
   "metadata": {},
   "outputs": [
    {
     "name": "stdout",
     "output_type": "stream",
     "text": [
      "(376, 15) (376,)\n"
     ]
    }
   ],
   "source": [
    "test_sample = 100\n",
    "\n",
    "X_train = X[test_sample:]\n",
    "Y_train = Y[test_sample:]\n",
    "\n",
    "X_test = X[:test_sample]\n",
    "Y_test = Y[:test_sample]\n",
    "print(X_train.shape,Y_train.shape)"
   ]
  },
  {
   "cell_type": "code",
   "execution_count": 76,
   "id": "bdc699a0-510c-454f-a557-9fca6509fecf",
   "metadata": {},
   "outputs": [
    {
     "name": "stdout",
     "output_type": "stream",
     "text": [
      "Score the X-train with Y-train is : 89.8936170212766%\n",
      "Score the X-test with Y-test is : 88.0%\n",
      "Index(['GENDER', 'AGE', 'SMOKING', 'YELLOW_FINGERS', 'ANXIETY',\n",
      "       'PEER_PRESSURE', 'CHRONIC DISEASE', 'FATIGUE ', 'ALLERGY ', 'WHEEZING',\n",
      "       'ALCOHOL CONSUMING', 'COUGHING', 'SHORTNESS OF BREATH',\n",
      "       'SWALLOWING DIFFICULTY', 'CHEST PAIN'],\n",
      "      dtype='object')\n",
      "(100,)\n"
     ]
    }
   ],
   "source": [
    "from sklearn.linear_model import LogisticRegression\n",
    "model = LogisticRegression(solver=\"liblinear\").fit(X_train,Y_train)\n",
    "\n",
    "print(\"Score the X-train with Y-train is : {}%\".format(LO_model.score(X_train,Y_train)*100))\n",
    "print(\"Score the X-test with Y-test is : {}%\".format(LO_model.score(X_test,Y_test)*100))\n",
    "print(X_test.columns)\n",
    "Y_pred = model.predict(X_test)\n",
    "print(Y_pred.shape)"
   ]
  },
  {
   "cell_type": "code",
   "execution_count": 77,
   "id": "d9e9e107-7d6a-4c79-9cd9-aa1215580318",
   "metadata": {},
   "outputs": [
    {
     "name": "stdout",
     "output_type": "stream",
     "text": [
      "    GENDER  AGE  SMOKING  YELLOW_FINGERS  ANXIETY  PEER_PRESSURE  \\\n",
      "44       1   70        1               1        0              1   \n",
      "\n",
      "    CHRONIC DISEASE  FATIGUE   ALLERGY   WHEEZING  ALCOHOL CONSUMING  \\\n",
      "44                1         0         0         0                  1   \n",
      "\n",
      "    COUGHING  SHORTNESS OF BREATH  SWALLOWING DIFFICULTY  CHEST PAIN  \n",
      "44         1                    0                      1           0  \n",
      "[1] \n",
      " True Pred:! 44    1\n",
      "Name: LUNG_CANCER, dtype: int64\n"
     ]
    }
   ],
   "source": [
    "sample = X_test.sample(1)\n",
    "print(sample)\n",
    "UI_pred = model.predict(sample)\n",
    "print(UI_pred,\"\\n\",\"True Pred:!\", Y_test[sample.index])"
   ]
  },
  {
   "cell_type": "code",
   "execution_count": 78,
   "id": "48d35b0c-75e0-4cac-9eba-0baa3bc5fad6",
   "metadata": {},
   "outputs": [],
   "source": [
    "import pickle\n",
    "filename = 'Model.Lung'\n",
    "pickle.dump(model, open(filename, 'wb'))"
   ]
  },
  {
   "cell_type": "code",
   "execution_count": null,
   "id": "7a91a66a-cc17-434f-a363-1585e3a93f30",
   "metadata": {},
   "outputs": [],
   "source": []
  },
  {
   "cell_type": "code",
   "execution_count": 79,
   "id": "6f61e159-c61a-4d5c-a8df-0afdd5c317b6",
   "metadata": {},
   "outputs": [
    {
     "name": "stdout",
     "output_type": "stream",
     "text": [
      "LogisticRegression(solver='liblinear')\n"
     ]
    }
   ],
   "source": [
    "filename = 'Model.Lung'\n",
    "model = pickle.load(open(filename, 'rb'))\n",
    "print(model)"
   ]
  },
  {
   "cell_type": "code",
   "execution_count": 80,
   "id": "dbe8931b-bfd7-4250-ba2e-f16990f4214b",
   "metadata": {},
   "outputs": [
    {
     "name": "stdout",
     "output_type": "stream",
     "text": [
      "[1]\n",
      "Yes You are a Lung Cancer patient\n"
     ]
    },
    {
     "name": "stderr",
     "output_type": "stream",
     "text": [
      "C:\\Users\\SAYAN\\Desktop\\Cancer Prediction\\env\\lib\\site-packages\\sklearn\\base.py:464: UserWarning: X does not have valid feature names, but LogisticRegression was fitted with feature names\n",
      "  warnings.warn(\n"
     ]
    }
   ],
   "source": [
    "input_data = ([[1,60,1,1,2,2,2,1,1,1,2,1,1,1,1]])\n",
    "modelPrediction = model.predict(input_data)\n",
    "\n",
    "print(modelPrediction)\n",
    "\n",
    "if(modelPrediction == 1):\n",
    "    print(\"Yes You are a Lung Cancer patient\")\n",
    "else:\n",
    "    print(\"No You are not affected by Lung Cancer\")"
   ]
  },
  {
   "cell_type": "code",
   "execution_count": null,
   "id": "c7a36b88-c879-4d47-ae0f-af8c64f759b3",
   "metadata": {},
   "outputs": [],
   "source": []
  }
 ],
 "metadata": {
  "kernelspec": {
   "display_name": "Python 3 (ipykernel)",
   "language": "python",
   "name": "python3"
  },
  "language_info": {
   "codemirror_mode": {
    "name": "ipython",
    "version": 3
   },
   "file_extension": ".py",
   "mimetype": "text/x-python",
   "name": "python",
   "nbconvert_exporter": "python",
   "pygments_lexer": "ipython3",
   "version": "3.9.4"
  }
 },
 "nbformat": 4,
 "nbformat_minor": 5
}
